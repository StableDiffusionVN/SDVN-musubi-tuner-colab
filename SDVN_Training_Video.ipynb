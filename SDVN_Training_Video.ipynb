{
  "cells": [
    {
      "cell_type": "markdown",
      "metadata": {
        "id": "-iUUqhJBwbNW"
      },
      "source": [
        "# [![](https://img.shields.io/badge/Musubi-Tuner-Blue)](https://github.com/kohya-ss/sd-scripts/tree/sd3?tab=readme-ov-file#flux1-fine-tuning) [![](https://img.shields.io/badge/Video-Hướng%20dẫn-ff0000)](https://youtu.be/798qchqWty4) [![](https://img.shields.io/badge/Design-stablediffusion.vn-0075ff)](https://stablediffusion.vn) [![](https://img.shields.io/badge/Ver-1.0-0075ff)](https://trainlora.vn) [![](https://img.shields.io/badge/All%20Tools-trainlora.vn-0075ff)](https://trainlora.vn) [![](https://img.shields.io/badge/SDVN-Library-green)](https://bit.ly/sdvn-lib) [![](https://img.shields.io/badge/Khoá%20học-All%20in%20one-red)](https://hungdiffusion.com/) [![](https://img.shields.io/badge/Group-Support-0075ff)](https://www.facebook.com/groups/stablediffusion.vn) [![](https://img.shields.io/discord/813085864355037235?color=blue&label=Discord&logo=Discord)](https://discord.gg/5SEtApPeyG)\n",
        "---"
      ]
    },
    {
      "cell_type": "markdown",
      "metadata": {
        "id": "YXK9gCuIvzvs"
      },
      "source": [
        "#⚙️ I. Cài đặt"
      ]
    },
    {
      "cell_type": "code",
      "execution_count": null,
      "metadata": {
        "cellView": "form",
        "id": "br2-uOpChoEp"
      },
      "outputs": [],
      "source": [
        "# @title ###Install\n",
        "import os\n",
        "from google.colab import drive\n",
        "\n",
        "drive.mount('/content/drive')\n",
        "root_dir = \"/content/\"\n",
        "data_dir = \"/content/drive/MyDrive/SD-Data\"\n",
        "repo_dir = \"/content/SDVN-musubi-tuner-colab\"\n",
        "\n",
        "if not os.path.exists(\"/content/musubi-tuner\"):\n",
        "  %cd /content\n",
        "  !git clone https://github.com/StableDiffusionVN/SDVN-musubi-tuner-colab\n",
        "  !git clone https://github.com/kohya-ss/musubi-tuner\n",
        "  %cd /content/musubi-tuner\n",
        "  !sed -i 's/^bitsandbytes==0.45.0/bitsandbytes/' /content/musubi-tuner/requirements.txt\n",
        "  !pip install -q -r /content/musubi-tuner/requirements.txt\n",
        "  !pip install -q toml aria2 OpenAI google-genai flash_attn==2.7.3\n",
        "\n",
        "%cd /content\n",
        "%run {repo_dir}/TrainScript.ipynb"
      ]
    },
    {
      "cell_type": "markdown",
      "metadata": {
        "id": "GJM2WBVLlkzZ"
      },
      "source": [
        "# 🎚️ II. Config Train"
      ]
    },
    {
      "cell_type": "code",
      "execution_count": null,
      "metadata": {
        "cellView": "form",
        "id": "HYytXyzlj6PT"
      },
      "outputs": [],
      "source": [
        "#@title 📂 2. Kết nối - xử lý data\n",
        "\n",
        "Image_train = True #@param {type:\"boolean\"}\n",
        "ImageFolder = \"/content/drive/MyDrive/SD-Data/TrainData\"  # @param {type:'string'}\n",
        "Video_train = False #@param {type:\"boolean\"}\n",
        "VideoFolder = \"/content/drive/MyDrive/SD-Data/TrainData\"  # @param {type:'string'}\n",
        "DataClean = False #@param {type:\"boolean\"}\n",
        "No_gen_caption = False #@param {type:\"boolean\"}\n",
        "# @markdown 🟡 `OCR Prompt`\n",
        "\n",
        "# @markdown 💡 `Florence yêu cầu khởi động lại phiên (Ctr + M + .) và chạy lại từ đầu`\n",
        "\n",
        "# @markdown 💡 `Tạo caption tự động cho video chỉ hỗ trợ dùng api qua gemini`\n",
        "Caption_Image = 'None' # @param ['None', 'Florence', 'APIGemini | 2.0 Flash', 'APIGemini | 2.0 Flash Lite', 'APIOpenAI | GPT 4-o mini']\n",
        "Caption_Video = 'None' # @param ['None','APIGemini | 2.0 Flash', 'APIGemini | 2.0 Flash Lite']\n",
        "Caption_Length = \"Short\" # @param [\"Short\",\"Medium\",\"Long\"]\n",
        "# @markdown 🟡 `API Caption`\n",
        "\n",
        "# @markdown [![](https://img.shields.io/badge/Gemini-API-blue)](https://aistudio.google.com/app/apikey)\n",
        "APIkey = \"\" # @param {type:'string'}\n",
        "API_Prompt = \"\" # @param {type:'string'}\n",
        "# @markdown 🟡 `Thêm caption tuỳ chọn`\n",
        "Custom_Caption = \"\" # @param {type:'string'}\n",
        "AddFolderName = False #@param {type:\"boolean\"}\n",
        "Remove_Caption = False #@param {type:\"boolean\"}\n",
        "Append = False #@param {type:\"boolean\"}\n",
        "\n",
        "if No_gen_caption == True:\n",
        "  Caption = 'None'\n",
        "  Custom_Caption = ''\n",
        "  AddFolderName = False\n",
        "\n",
        "Cap_prompt = {\n",
        "    'Short':['<CAPTION>',0.85, 30],\n",
        "    'Medium':['<DETAILED_CAPTION>',0.5, 60],\n",
        "    'Long':['<MORE_DETAILED_CAPTION>',0.35, 100]\n",
        "}\n",
        "extension = \".txt\"\n",
        "\n",
        "if DataClean == True :\n",
        "  %cd /content\n",
        "  clean_directory(ImageFolder)\n",
        "if Caption_Image != \"None\" and Image_train:\n",
        "  caption_dir(ImageFolder,Cap_prompt[Caption_Length])\n",
        "\n",
        "if Caption_Video != \"None\" and Video_train:\n",
        "  caption_dir(VideoFolder,Cap_prompt[Caption_Length], True)\n",
        "\n",
        "list_train_dir = []\n",
        "if Image_train:\n",
        "  list_train_dir.append(ImageFolder)\n",
        "if Video_train:\n",
        "  list_train_dir.append(VideoFolder)\n",
        "if AddFolderName:\n",
        "  for dir in list_train_dir:\n",
        "    add_forder_name(dir)\n",
        "if Custom_Caption != \"\":\n",
        "  for dir in list_train_dir:\n",
        "    process_dir(dir, Custom_Caption, Append, Remove_Caption)\n"
      ]
    },
    {
      "cell_type": "code",
      "execution_count": null,
      "metadata": {
        "cellView": "form",
        "id": "Qut3j_jv8YZW"
      },
      "outputs": [],
      "source": [
        "#@title 🛠️ 3. Cấu hình train\n",
        "\n",
        "%run {repo_dir}/Config.ipynb\n",
        "\n",
        "model_train = \"wan_i2v\" # @param [\"wan_t2v\", \"wan_i2v\", \"wan_t2v_13\", \"hun_t2v\"]\n",
        "output_dir = \"/content/drive/MyDrive/SD-Data/Lora\" # @param {type:'string'}\n",
        "output_name = \"lora_name\" # @param {type:'string'}\n",
        "#value\n",
        "# @markdown 💡 `Tuỳ chỉnh theo tỉ lệ khung hình và lượng frame. Train hình tương đương frame = 1`\n",
        "resolution = \"720,480\" # @param {type:'string'}\n",
        "batch_size = 1 # @param {type:'number'}\n",
        "image_dir = ImageFolder\n",
        "video_dir = VideoFolder\n",
        "num_repeats = 20 # @param {type:'number'}\n",
        "max_train_epochs = 10 # @param {type:'number'}\n",
        "save_every_n_epochs = 1 # @param {type:'number'}\n",
        "save_last_n_epochs = 0 # @param {type:'number'}\n",
        "save_every_n_steps = 0 # @param {type:'number'}\n",
        "# @markdown 💡 `Các chế độ xử lý video`\n",
        "\n",
        "# @markdown ▪️ `head - Lấy trực tiếp các frame từ đầu với lượng frame = target_frames`\n",
        "\n",
        "# @markdown ▪️ `chunk - Chia video thành từng đoạn theo với lượng frame = target_frames`\n",
        "\n",
        "# @markdown ▪️ `slide - Trích frame = target_frames và cách nhau frame_stride`\n",
        "\n",
        "# @markdown ▪️ `uniform - Chia đều video thành frame_sample đoạn, mỗi đoạn trích suất frame = target_frames`\n",
        "\n",
        "# @markdown ▪️ `full - Trích xuất toàn bộ video và giới hạn không quá max_frames`\n",
        "\n",
        "# @markdown 💡 `target_frames - Lượng frame được cắt | VD:1,25,33 - 3 phương án với 1, 25, 33 frame`\n",
        "\n",
        "frame_extraction = \"head\" # @param [\"head\",\"chunk\",\"slide\",\"uniform\",\"full\"]\n",
        "target_frames = \"33\" # @param {type:'string'}\n",
        "frame_stride = 1 # @param {type:'number'}\n",
        "frame_sample = 1 # @param {type:'number'}\n",
        "max_frames = 33 # @param {type:'number'}\n",
        "\n",
        "# @markdown *️⃣ `Điều chỉnh Learning Rate`\n",
        "learning_rate = 1e-4 # @param {type:'number'}\n",
        "optimizer_type = \"adamw8bit\" # @param [\"adamw\", \"adamw8bit\", \"adafactor\"]\n",
        "lr_scheduler = \"constant\" # @param [ \"cosine\", \"constant\", \"polynomial\"]\n",
        "network_dim = 32 # @param {type:'number'}\n",
        "network_alpha = 32 # @param {type:'number'}\n",
        "# @markdown *️⃣ `Bật/Tắt các tính năng mở rộng, bao gồm (info, sampler, sao lưu, log)`\n",
        "extra_option = True #@param {type:\"boolean\"}\n",
        "author = '' # @param {\"type\":\"string\"}\n",
        "description = '' # @param {\"type\":\"string\"}\n",
        "sample_prompt = \"\" #@param {type:'string'}\n",
        "sample_size = \"512,512\" #@param {type:'string'}\n",
        "sample_every_n_steps = 200 # @param {type:'number'}\n",
        "# @markdown 🟡 `Train model i2v (Image to video) sẽ cần một ảnh frame đầu để chạy được sample`\n",
        "sample_image_i2v_path = \"\" #@param {type:'string'}\n",
        "wandb_api_key = '' #@param {type:'string'}\n",
        "save_state = False #@param {type:\"boolean\"}\n",
        "save_state_on_train_end = False #@param {type:\"boolean\"}\n",
        "resume = \"\" #@param {type:'string'}\n",
        "\n",
        "#default\n",
        "\n",
        "resolution = [int(x) for x in resolution.split(\",\")]\n",
        "target_frames = [int(x) for x in target_frames.split(\",\")]\n",
        "dataset = os.path.join(root_dir,\"dataset.toml\")\n",
        "\n",
        "data_config = data_config(resolution, extension, batch_size)\n",
        "dataset_file(Image_train, Video_train, image_dir, data_config, video_dir, model_train, num_repeats, frame_extraction, target_frames, frame_stride, frame_sample, max_frames)\n",
        "config = config(model_train, optimizer_type, learning_rate, lr_scheduler, network_dim, network_alpha, max_train_epochs, save_every_n_epochs, save_last_n_epochs, save_every_n_steps, output_dir, output_name)\n",
        "extra = extra(model_train, sample_every_n_steps, wandb_api_key, output_name, save_state, save_state_on_train_end, resume, author, description)\n",
        "folder_train = ImageFolder if Image_train else VideoFolder\n",
        "prompt(model_train, sample_prompt, folder_train, sample_image_i2v_path)\n",
        "cache_latents_config = cache_latents_config(model_train)\n",
        "cache_text_encoder_config = cache_text_encoder_config(model_train)\n",
        "\n",
        "arg = f'accelerate launch {dic2arg(op)} {dic2arg(config)} {dic2arg(extra) if extra_option else \"\"}'\n",
        "print(arg)\n",
        "arg_latents_config = dic2arg(cache_latents_config)\n",
        "print(arg_latents_config)\n",
        "arg_text_encoder_config = dic2arg(cache_text_encoder_config)\n",
        "print(arg_text_encoder_config)\n",
        "print(\"Done\")"
      ]
    },
    {
      "cell_type": "markdown",
      "metadata": {
        "id": "STDQ7a1pl4pR"
      },
      "source": [
        "# ⏳ III. Training"
      ]
    },
    {
      "cell_type": "code",
      "execution_count": null,
      "metadata": {
        "cellView": "form",
        "id": "_5s2v4fIiGXH"
      },
      "outputs": [],
      "source": [
        "#@title ⏳ 3. Training\n",
        "%cd /content/musubi-tuner\n",
        "run_cache = True #@param {type:\"boolean\"}\n",
        "if run_cache:\n",
        "  !{arg_latents_config}\n",
        "  !{arg_text_encoder_config}\n",
        "!{arg}\n",
        "\n",
        "AutoDisconect = True # @param {\"type\":\"boolean\"}\n",
        "if AutoDisconect:\n",
        "  from time import sleep\n",
        "  sleep(3*60)\n",
        "  from google.colab import runtime\n",
        "  runtime.unassign()"
      ]
    }
  ],
  "metadata": {
    "accelerator": "GPU",
    "colab": {
      "cell_execution_strategy": "setup",
      "collapsed_sections": [
        "YXK9gCuIvzvs"
      ],
      "gpuType": "A100",
      "machine_shape": "hm",
      "private_outputs": true,
      "provenance": []
    },
    "kernelspec": {
      "display_name": "Python 3",
      "name": "python3"
    },
    "language_info": {
      "name": "python"
    }
  },
  "nbformat": 4,
  "nbformat_minor": 0
}
